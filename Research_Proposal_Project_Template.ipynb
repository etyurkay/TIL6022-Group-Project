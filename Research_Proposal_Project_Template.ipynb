{
 "cells": [
  {
   "cell_type": "markdown",
   "metadata": {},
   "source": [
    "# Project Group - \n",
    "\n",
    "Members: \n",
    "Youri Beijer \n",
    "Ecem Tyurkay \n",
    "Rico de Jong \n",
    "Saumitra Deo \n",
    "Pranshu Sharma \n",
    "\n",
    "Student numbers: \n",
    "4965027\n",
    "6301207\n",
    "5348870\n",
    "6434223\n",
    "6505015"
   ]
  },
  {
   "cell_type": "markdown",
   "metadata": {},
   "source": [
    "# Research Objective\n",
    "\n",
    "*Requires data modeling and quantitative research in Transport, Infrastructure & Logistics*"
   ]
  },
  {
   "cell_type": "markdown",
   "metadata": {},
   "source": [
    "The aim of this report is to answer the following research question:\n",
    "\n",
    "\"How is rail freight distributed across European countries by consignment type and commodity group, and how does the railway network influence these patterns/trends?\"\n"
   ]
  },
  {
   "cell_type": "markdown",
   "metadata": {},
   "source": [
    "# Contribution Statement\n",
    "\n",
    "*Be specific. Some of the tasks can be coding (expect everyone to do this), background research, conceptualisation, visualisation, data analysis, data modelling*"
   ]
  },
  {
   "cell_type": "markdown",
   "metadata": {},
   "source": [
    "Each author is responsible for answering their own sub-question.\n",
    "\n",
    "**Author 1**: \n",
    "Saumitra Deo\n",
    "\n",
    "\"How do different countries relate to different shares of consignment types?\"\n",
    "\n",
    "Tasks: Extract relevant Eurostat dataset (rail_go_consgmt), Clean and preprocess country–consignment data, Build contingency tables (country vs. consignment type), Perform chi-square test of independence, Create visualizations: bar charts, heatmaps of shares by country, Write results section discussing differences across countries.\n",
    "\n",
    "**Author 2**:\n",
    "Youri Beijer\n",
    "\n",
    "\"How does network length influence consignment?\"\n",
    "\n",
    "Tasks: Retrieve Eurostat dataset (rail_if_line_na) for network length, Merge network length data with consignment dataset (rail_go_consgmt), Perform correlation analysis (Pearson/Spearman) between network length and consignment types, Run regression models to test influence of network length, Create scatter plots with regression lines, Document methodology and statistical findings.\n",
    "\n",
    "**Author 3**:\n",
    "Rico de Jong\n",
    "\n",
    "\"How does the network length influence the modal share?\"\n",
    "\n",
    "Tasks: Collect data on modal share of rail freight from Eurostat, Link modal share with network length & density indicators, Conduct regression analysis (network length & density vs. modal share), Create scatter plots, regression plots, and comparative tables, Interpret whether denser networks show higher modal shares, Draft results and add visual evidence to the report.\n",
    "\n",
    "**Author 4**:\n",
    "Pranshu Sharma\n",
    "\n",
    "\"Which 5 EU countries have the most- and least train freight?\"\n",
    "\n",
    "Tasks: Extract rail freight volume dataset from Eurostat, Rank countries and identify top 5 and bottom 5, Compare structural differences (total volume, growth trends), Produce tables, rankings, and bar plots of volumes, Write results section interpreting patterns among high vs. low performers.\n",
    "\n",
    "**Author 5**:\n",
    "Ecem Tyurkay\n",
    "\n",
    "\"How has the trend of full train consignments changed over time in the top- and bottom-five EU freight countries?\"\n",
    "\n",
    "Tasks: Filter dataset for full train consignments, Perform time-series analysis (2008–present), Plot trends for top 5 and bottom 5 countries (line charts, percentage shares), Test hypotheses using regression or trend analysis.\n",
    "\n",
    "\"How do commodity groups (NST 2007 classification) influence the distribution of consignment types?\"\n",
    "\n",
    "Tasks: Retrieve dataset (rail_go_grpgood), Combine with consignment dataset, Build contingency tables (commodity group × consignment type), Run chi-square independence tests, Visualize with stacked bar charts and heatmaps, Interpret which commodity groups are linked to certain consignment types.\n"
   ]
  },
  {
   "cell_type": "markdown",
   "metadata": {},
   "source": [
    "# Data Used"
   ]
  },
  {
   "cell_type": "markdown",
   "metadata": {},
   "source": [
    "rail_go_consgmt – Goods transported by type of consignment (Eurostat).\n",
    "\n",
    "rail_go_grpgood – Goods transported by group of goods (Eurostat, NST 2007 classification, from 2008 onwards).\n",
    "\n",
    "rail_if_line_na – Length of electric and non-electric railway lines, by nature of transport (Eurostat).\n",
    "\n",
    "Rail freight volumes (tonnes and tonne-kilometres) – Eurostat indicators for total freight transported.\n",
    "\n",
    "Rail modal share indicators – Eurostat statistics on the modal split of freight transport."
   ]
  },
  {
   "cell_type": "markdown",
   "metadata": {},
   "source": [
    "# Data Pipeline"
   ]
  },
  {
   "cell_type": "markdown",
   "metadata": {},
   "source": [
    "Data Collection\n",
    "\n",
    "Download datasets from Eurostat (rail_go_consgmt, rail_go_grpgood, rail_if_line_na, freight volumes, modal share).\n",
    "\n",
    "Ensure consistent formats (CSV/Excel).\n",
    "\n",
    "Data Cleaning & Pre-processing\n",
    "\n",
    "Remove missing or inconsistent entries.\n",
    "\n",
    "Standardize country names, years, units (tonnes, tonne-km, percentages).\n",
    "\n",
    "Filter to the required timeframe (2008 onwards).\n",
    "\n",
    "Merge datasets where needed (e.g., network length with consignment shares).\n",
    "\n",
    "Data Storage & Versioning\n",
    "\n",
    "Store cleaned datasets in your GitHub repository.\n",
    "\n",
    "Each member works on a separate branch, commits changes, and documents preprocessing steps.\n",
    "\n",
    "Analysis & Testing\n",
    "\n",
    "Perform statistical tests (chi-square, correlation, regression).\n",
    "\n",
    "Generate descriptive statistics (means, shares, rankings).\n",
    "\n",
    "Run time-series analysis for trends.\n",
    "\n",
    "Visualization & Reporting\n",
    "\n",
    "Create charts (scatter plots, bar charts, line graphs, heatmaps).\n",
    "\n",
    "Export results for inclusion in the final report.\n",
    "\n",
    "Each member writes their analysis section, integrated into the final document."
   ]
  }
 ],
 "metadata": {
  "kernelspec": {
   "display_name": "Python 3",
   "language": "python",
   "name": "python3"
  },
  "language_info": {
   "name": "python",
   "version": "3.8.2"
  },
  "orig_nbformat": 4,
  "vscode": {
   "interpreter": {
    "hash": "31f2aee4e71d21fbe5cf8b01ff0e069b9275f58929596ceb00d14d90e3e16cd6"
   }
  }
 },
 "nbformat": 4,
 "nbformat_minor": 2
}
